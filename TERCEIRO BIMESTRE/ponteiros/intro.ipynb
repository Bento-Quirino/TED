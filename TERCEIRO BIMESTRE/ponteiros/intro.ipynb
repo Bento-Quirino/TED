{
 "cells": [
  {
   "cell_type": "markdown",
   "metadata": {},
   "source": [
    "# Ponteiros\n",
    "\n",
    "O que são ponteiros? Ponteiros são variáveis que armazenam endereços de memória. Eles são muito utilizados em C e C++ para manipulação de memória, alocação dinâmica de memória, passagem de parâmetros por referência, etc."
   ]
  },
  {
   "cell_type": "code",
   "execution_count": 3,
   "metadata": {},
   "outputs": [
    {
     "name": "stdout",
     "output_type": "stream",
     "text": [
      "test_list: [1, 2, 3, 4, 5]\n",
      "pointer: [1, 2, 3, 4, 5]\n",
      "test_list: [10, 2, 3, 4, 5]\n",
      "pointer: [10, 2, 3, 4, 5]\n",
      "\n",
      "Deep copy\n",
      "test_list: [1, 2, 3, 4, 5]\n",
      "pointer: [1, 2, 3, 4, 5]\n",
      "test_list: [1, 2, 3, 4, 5]\n",
      "pointer: [10, 2, 3, 4, 5]\n"
     ]
    }
   ],
   "source": [
    "# Ponteiros em Python\n",
    "\n",
    "# Ponteiros em Python são objetos que apontam para outros objetos\n",
    "# e podem ser usados para modificar o objeto apontado\n",
    "\n",
    "# Exemplo de ponteiro em Python (shallow copy e deep copy)\n",
    "\n",
    "test_list = [1, 2, 3, 4, 5]\n",
    "pointer = test_list # ponteiro para test_list (shallow copy)\n",
    "\n",
    "print(\"test_list:\", test_list)\n",
    "print(\"pointer:\", pointer)\n",
    "\n",
    "# Modificando o objeto apontado\n",
    "pointer[0] = 10\n",
    "\n",
    "# Modificações refletidas\n",
    "print(\"test_list:\", test_list)\n",
    "print(\"pointer:\", pointer)\n",
    "\n",
    "# Deep copy (cópia profunda, sem biblioteca)\n",
    "print(\"\\nDeep copy\")\n",
    "test_list = [1, 2, 3, 4, 5]\n",
    "pointer = test_list.copy() # deep copy\n",
    "\n",
    "print(\"test_list:\", test_list)\n",
    "print(\"pointer:\", pointer)\n",
    "\n",
    "# Modificando o objeto apontado\n",
    "pointer[0] = 10\n",
    "\n",
    "# Modificações não refletidas\n",
    "print(\"test_list:\", test_list)\n",
    "print(\"pointer:\", pointer)\n"
   ]
  }
 ],
 "metadata": {
  "kernelspec": {
   "display_name": "base",
   "language": "python",
   "name": "python3"
  },
  "language_info": {
   "codemirror_mode": {
    "name": "ipython",
    "version": 3
   },
   "file_extension": ".py",
   "mimetype": "text/x-python",
   "name": "python",
   "nbconvert_exporter": "python",
   "pygments_lexer": "ipython3",
   "version": "3.9.7"
  }
 },
 "nbformat": 4,
 "nbformat_minor": 2
}
