{
 "cells": [
  {
   "cell_type": "markdown",
   "metadata": {},
   "source": [
    "# O que é uma lista encadeada?\n",
    "\n",
    "Lista encadeada é uma estrutura de dados que consiste em uma sequência de elementos, onde cada elemento é um **nó** que contém um **valor e um ponteiro para o próximo elemento**.\n",
    "\n",
    "A principal vantagem de uma lista encadeada em relação a um array é que a lista encadeada não precisa de um espaço contíguo de memória. Isso significa que a lista encadeada pode crescer dinamicamente sem precisar de um espaço de memória contíguo.\n",
    "\n",
    "> Contígua significa que os elementos estão armazenados em posições de memória consecutivas. Por exemplo, em um array, os elementos são armazenados em posições de memória consecutivas."
   ]
  },
  {
   "cell_type": "markdown",
   "metadata": {},
   "source": [
    "## O que é um ponteiro?\n",
    "\n",
    "Um ponteiro é uma variável que armazena o endereço de memória de outra variável. Em uma lista encadeada, o ponteiro é usado para apontar para o próximo nó da lista.\n"
   ]
  },
  {
   "cell_type": "markdown",
   "metadata": {},
   "source": [
    "# Estrutura de um nó\n",
    "\n",
    "Cada nó de uma lista encadeada contém dois campos:\n",
    "1. **Valor**: O valor que o nó armazena (pode ser qualquer tipo de dado).\n",
    "2. **Próximo**: Um **ponteiro** para o próximo nó da lista.\n",
    "\n",
    "Veja o exemplo em python abaixo:"
   ]
  },
  {
   "cell_type": "code",
   "execution_count": 2,
   "metadata": {},
   "outputs": [
    {
     "name": "stdout",
     "output_type": "stream",
     "text": [
      "{'value': 3, 'next': {'value': 5, 'next': None}}\n",
      "{'value': 3, 'next': {'value': 7, 'next': None}}\n"
     ]
    }
   ],
   "source": [
    "# Nó com um valor e um ponteiro para o próximo nó (usando dict)\n",
    "\n",
    "firstNode = {'value': 3, 'next': None} # primeiro nó, tem valor 3 e não aponta para nenhum outro nó\n",
    "secondNode = {'value': 5, 'next': None} # segundo nó, tem valor 5 e não aponta para nenhum outro nó\n",
    "\n",
    "firstNode['next'] = secondNode # o primeiro nó agora aponta para o segundo nó\n",
    "print(firstNode) # {'value': 3, 'next': {'value': 5, 'next': None}}\n",
    "\n",
    "# Ao mudarmos o secondNode, o firstNode também muda, pois ele aponta para o secondNode\n",
    "secondNode['value'] = 7\n",
    "print(firstNode) # {'value': 3, 'next': {'value': 7, 'next': None}}"
   ]
  },
  {
   "cell_type": "markdown",
   "metadata": {},
   "source": [
    "# Onde podemos usar uma lista encadeada?\n",
    "\n",
    "1. **Implementação de pilhas e filas**: As listas encadeadas são usadas para implementar pilhas e filas, pois as operações de inserção e exclusão são mais rápidas do que em arrays."
   ]
  },
  {
   "cell_type": "markdown",
   "metadata": {},
   "source": [
    "# Lição de casa\n",
    "\n",
    "1. Implemente uma lista encadeada em python com as seguintes funções:\n",
    "    - init(): Inicializa a lista encadeada.\n",
    "    - create_node(value): Cria um novo nó com o valor especificado.\n",
    "    - append(value): Adiciona um novo nó no final da lista.\n",
    "    - remove(value): Remove o nó com o valor especificado.\n",
    "    - display(): Exibe a lista encadeada."
   ]
  },
  {
   "cell_type": "code",
   "execution_count": 6,
   "metadata": {},
   "outputs": [],
   "source": [
    "# Código em python sem o uso de classes para a criação de uma lista encadeada\n",
    "\n",
    "def init(value): # se não for passado um valor, o value é None\n",
    "    return {'value': value, 'next': None}\n",
    "\n",
    "def appendNode(firstNode, newNode):\n",
    "    currentNode = firstNode # começa pelo primeiro nó\n",
    "    while currentNode['next'] is not None:\n",
    "        currentNode = currentNode['next'] # passa para o próximo nó\n",
    "        \n",
    "    currentNode['next'] = newNode # o último nó aponta para o novo nó\n",
    "    \n",
    "def insertValueAtNode(node, value):\n",
    "    node['value'] = value\n",
    "    \n",
    "def removeNode(firstNode, nodeToRemove):\n",
    "    currentNode = firstNode # começa pelo primeiro nó\n",
    "    while currentNode['next'] is not None:\n",
    "        if currentNode['next'] == nodeToRemove: # se o próximo nó for o nó a ser removido\n",
    "            currentNode['next'] = nodeToRemove['next'] # o nó atual aponta para o nó que o nó a ser removido aponta           \n",
    "            return # sai da função\n",
    "        \n",
    "        currentNode = currentNode['next'] # passa para o próximo nó)\n",
    "        \n",
    "def printList(firstNode):\n",
    "    print(firstNode)\n",
    "        \n",
    "        "
   ]
  },
  {
   "cell_type": "code",
   "execution_count": 7,
   "metadata": {},
   "outputs": [
    {
     "name": "stdout",
     "output_type": "stream",
     "text": [
      "{'value': 3, 'next': {'value': 4, 'next': {'value': 5, 'next': {'value': 6, 'next': {'value': 7, 'next': {'value': 8, 'next': {'value': 9, 'next': {'value': 10, 'next': {'value': 11, 'next': {'value': 12, 'next': None}}}}}}}}}}\n"
     ]
    }
   ],
   "source": [
    "# Criando 10 nós\n",
    "firstNode = init(3)\n",
    "\n",
    "for i in range(4, 13):\n",
    "    appendNode(firstNode, init(i))\n",
    "    \n",
    "printList(firstNode) # 3 4 5 6 7 8 9 10 11 12"
   ]
  }
 ],
 "metadata": {
  "kernelspec": {
   "display_name": "base",
   "language": "python",
   "name": "python3"
  },
  "language_info": {
   "codemirror_mode": {
    "name": "ipython",
    "version": 3
   },
   "file_extension": ".py",
   "mimetype": "text/x-python",
   "name": "python",
   "nbconvert_exporter": "python",
   "pygments_lexer": "ipython3",
   "version": "3.9.7"
  }
 },
 "nbformat": 4,
 "nbformat_minor": 2
}
