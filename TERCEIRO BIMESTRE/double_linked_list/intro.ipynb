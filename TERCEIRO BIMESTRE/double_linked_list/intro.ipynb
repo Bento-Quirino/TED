{
 "cells": [
  {
   "cell_type": "markdown",
   "metadata": {},
   "source": [
    "# Lista duplamente encadeada\n",
    "\n",
    "## Estrutura de um nó\n",
    "\n",
    "Cada nó da lista duplamente encadeada possui dois ponteiros, um para o nó anterior e outro para o nó seguinte. Além disso, cada nó possui um valor que é armazenado na lista."
   ]
  },
  {
   "cell_type": "code",
   "execution_count": 17,
   "metadata": {},
   "outputs": [],
   "source": [
    "# Código em python sem o uso de classes para a criação de uma lista duplamente encadeada\n",
    "\n",
    "def init(value): # se não for passado um valor, o value é None\n",
    "    return {'last': None, 'value': value, 'next': None}\n",
    "\n",
    "def appendNode(currentNode, value, lastOrNext):\n",
    "    if lastOrNext == 'last':\n",
    "        currentNode['last'] = value\n",
    "        value['next'] = currentNode\n",
    "    elif lastOrNext == 'next':\n",
    "        currentNode['next'] = value\n",
    "        value['last'] = currentNode\n",
    "    else:\n",
    "        print('Erro: lastOrNext deve ser \"last\" ou \"next\"')\n",
    "    \n",
    "def removeNode(firstNode, nodeToRemove):\n",
    "    currentNode = firstNode # começa pelo primeiro nó\n",
    "    while currentNode['next'] is not None:\n",
    "        if currentNode['next'] == nodeToRemove: # se o próximo nó for o nó a ser removido\n",
    "            # o próximo nó do nó atual passa a ser o próximo nó do nó a ser removido\n",
    "            # e o nó anterior ao nó a ser removido passa a ser o nó anterior ao nó atual\n",
    "            currentNode['next'] = nodeToRemove['next']\n",
    "            nodeToRemove['next']['last'] = currentNode \n",
    "            \n",
    "            return # sai da função\n",
    "        \n",
    "        currentNode = currentNode['next'] # passa para o próximo nó)\n",
    "        \n",
    "def printList(firstNode):\n",
    "    print(firstNode)\n",
    "        \n",
    "        "
   ]
  },
  {
   "cell_type": "code",
   "execution_count": 22,
   "metadata": {},
   "outputs": [
    {
     "name": "stdout",
     "output_type": "stream",
     "text": [
      "{'last': {'last': None, 'value': 2, 'next': {...}}, 'value': 1, 'next': {'last': {...}, 'value': 3, 'next': None}}\n"
     ]
    }
   ],
   "source": [
    "# Manipulando uma lista duplamente encadeada\n",
    "\n",
    "firstNode = init(1) # cria o primeiro nó com valor 1\n",
    "\n",
    "appendNode(firstNode, init(2), 'last') # adiciona um nó com valor 2 no nó anterior\n",
    "appendNode(firstNode, init(3), 'next') # adiciona um nó com valor 3 no nó anterior\n",
    "\n",
    "printList(firstNode) # imprime o nó anterior ao primeiro nó"
   ]
  }
 ],
 "metadata": {
  "kernelspec": {
   "display_name": "base",
   "language": "python",
   "name": "python3"
  },
  "language_info": {
   "codemirror_mode": {
    "name": "ipython",
    "version": 3
   },
   "file_extension": ".py",
   "mimetype": "text/x-python",
   "name": "python",
   "nbconvert_exporter": "python",
   "pygments_lexer": "ipython3",
   "version": "3.9.7"
  }
 },
 "nbformat": 4,
 "nbformat_minor": 2
}
