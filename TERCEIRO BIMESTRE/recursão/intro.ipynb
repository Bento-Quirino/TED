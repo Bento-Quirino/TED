{
 "cells": [
  {
   "cell_type": "markdown",
   "metadata": {},
   "source": [
    "# Recursão\n",
    "\n",
    "Recursão é um conceito muito importante em programação. Ela é uma técnica que consiste em uma função chamar a si mesma.\n",
    "\n",
    "### Por que usar recursão?\n",
    "\n",
    "Recursão é uma técnica poderosa que pode ser usada para resolver problemas que possuem uma estrutura recursiva. Além disso, ela pode ser usada para simplificar a implementação de algoritmos complexos.\n",
    "\n",
    "### Por que não usar recursão?\n",
    "\n",
    "Recursão pode ser uma técnica ineficiente em termos de uso de memória e tempo de execução. Além disso, ela pode ser difícil de entender e depurar.\n",
    "\n",
    "### Como funciona a recursão?\n",
    "\n",
    "Quando uma função é chamada, uma nova instância da função é criada e colocada na pilha de chamadas. Quando a função termina de executar, ela é removida da pilha de chamadas. Isso significa que funções recursivas podem ser chamadas várias vezes antes de terminar de executar."
   ]
  },
  {
   "cell_type": "code",
   "execution_count": 10,
   "metadata": {},
   "outputs": [
    {
     "name": "stdout",
     "output_type": "stream",
     "text": [
      "120\n"
     ]
    }
   ],
   "source": [
    "# Exemplo de recursão com fatorial\n",
    "\n",
    "def fatorial(n):\n",
    "    if n == 0:\n",
    "        return 1\n",
    "    else:\n",
    "        return n * fatorial(n - 1)\n",
    "    \n",
    "print(fatorial(5))\n",
    "\n",
    "# ele está fazendo:\n",
    "# 5 * fatorial(4)\n",
    "# 4 * fatorial(3)\n",
    "# 3 * fatorial(2)\n",
    "# 2 * fatorial(1)\n",
    "# 1 * fatorial(0)\n",
    "# 1 * 1 = 1\n",
    "# 2 * 1 = 2\n",
    "# 3 * 2 = 6\n",
    "# 4 * 6 = 24\n",
    "# 5 * 24 = 120"
   ]
  },
  {
   "cell_type": "markdown",
   "metadata": {},
   "source": [
    "# Exercícios recursivos\n",
    "Agora que você já entendeu o conceito de recursão, vamos resolver alguns exercícios recursivos.\n",
    "\n",
    "### Exercício 1: Andando em uma lista encadeada\n",
    "Dada o nó inicial, escreva uma função recursiva que imprime todos os elementos da lista.\n",
    "\n",
    "### Exercício 2: Fibonacci\n",
    "Escreva uma função recursiva que calcula o n-ésimo número da sequência de Fibonacci.\n",
    "A sequência de Fibonacci é uma sequência de números inteiros onde cada número é a soma dos dois números anteriores. A sequência começa com 0 e 1.\n",
    "\n",
    "Exemplo da sequência de Fibonacci:\n",
    "```\n",
    "0, 1, 1, 2, 3, 5, 8, 13, 21, 34, ...\n",
    "```\n",
    "\n",
    "### Exercício 3: Fatorial\n",
    "Escreva uma função recursiva que calcula o fatorial de um número.\n",
    "\n"
   ]
  }
 ],
 "metadata": {
  "kernelspec": {
   "display_name": "base",
   "language": "python",
   "name": "python3"
  },
  "language_info": {
   "codemirror_mode": {
    "name": "ipython",
    "version": 3
   },
   "file_extension": ".py",
   "mimetype": "text/x-python",
   "name": "python",
   "nbconvert_exporter": "python",
   "pygments_lexer": "ipython3",
   "version": "3.9.7"
  }
 },
 "nbformat": 4,
 "nbformat_minor": 2
}
